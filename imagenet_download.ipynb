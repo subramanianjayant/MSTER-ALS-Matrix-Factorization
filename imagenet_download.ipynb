{
 "cells": [
  {
   "cell_type": "code",
   "execution_count": 1,
   "metadata": {},
   "outputs": [],
   "source": [
    "from bs4 import BeautifulSoup\n",
    "import numpy as np \n",
    "import requests\n",
    "import urllib\n",
    "import cv2\n",
    "\n"
   ]
  },
  {
   "cell_type": "code",
   "execution_count": null,
   "metadata": {},
   "outputs": [],
   "source": []
  },
  {
   "cell_type": "code",
   "execution_count": 2,
   "metadata": {},
   "outputs": [],
   "source": [
    "general_url = \"http://image-net.org/api/text/imagenet.synset.geturls?wnid=\""
   ]
  },
  {
   "cell_type": "code",
   "execution_count": 9,
   "metadata": {},
   "outputs": [],
   "source": [
    "def url_to_image(url):\n",
    "    # download the image, convert it to a NumPy array, and then read\n",
    "    # it into OpenCV format\n",
    "    resp = urllib.request.urlopen(url)\n",
    "    image = np.asarray(bytearray(resp.read()), dtype=\"uint8\")\n",
    "    image = cv2.imdecode(image, cv2.IMREAD_COLOR)\n",
    " \n",
    "    # return the image\n",
    "    return image\n",
    "\n",
    "def get_url(id_, general_url=general_url):\n",
    "    page = requests.get(general_url + id_).content\n",
    "    soup = BeautifulSoup(page, 'html.parser')\n",
    "    return soup\n",
    "\n",
    "def soups_from_ids(ids):\n",
    "    soups = {key: \"\" for key in ids}\n",
    "    for id_ in ids:\n",
    "        soup = get_url(ids[id_])\n",
    "        soups[id_] = soup\n",
    "    return soups\n",
    "\n",
    "\n",
    "def download_images(soups):\n",
    "    missing = 0\n",
    "    for key, soup in soups.items():\n",
    "        img_num = 1\n",
    "        path = 'datasets/' + key + '/'\n",
    "        print(path)\n",
    "        urls = str(soup).split('\\r\\n')\n",
    "        print('processing %s images' % key)\n",
    "        for url in urls:\n",
    "            if img_num > 150:\n",
    "                break\n",
    "            try:\n",
    "                img = url_to_image(url)\n",
    "                print(url)\n",
    "                if img is not None:\n",
    "                    name = str(key) + '_' + str(img_num) + '.jpg'\n",
    "                    print(path+name)\n",
    "\n",
    "                    cv2.imwrite(name, img)\n",
    "                    img_num += 1\n",
    "            except (urllib.error.HTTPError, urllib.error.URLError, ValueError) as e:\n",
    "                missing += 1\n",
    "            except TimeoutError as e:\n",
    "                continue \n",
    "                missing += 1\n",
    "            except:\n",
    "                missing += 1\n",
    "            \n",
    "    print('missing images: ', missing)"
   ]
  },
  {
   "cell_type": "code",
   "execution_count": null,
   "metadata": {},
   "outputs": [
    {
     "name": "stdout",
     "output_type": "stream",
     "text": [
      "datasets/dog/\n",
      "processing dog images\n",
      "http://farm1.static.flickr.com/229/482030938_2fb6198ab1.jpg\n",
      "datasets/dog/dog_1.jpg\n",
      "http://farm2.static.flickr.com/1436/1392119504_17fb8ab777.jpg\n",
      "datasets/dog/dog_2.jpg\n",
      "http://farm2.static.flickr.com/1277/562523143_92ec900b3c.jpg\n",
      "datasets/dog/dog_3.jpg\n",
      "http://static.flickr.com/152/372875911_83edd3ec47.jpg\n",
      "datasets/dog/dog_4.jpg\n",
      "http://static.flickr.com/30/47847852_95f0fb71e0.jpg\n",
      "datasets/dog/dog_5.jpg\n",
      "http://farm2.static.flickr.com/1071/1245099400_50fa3e4d00.jpg\n",
      "datasets/dog/dog_6.jpg\n",
      "http://farm3.static.flickr.com/2092/1865057582_5141a7be4d.jpg\n",
      "datasets/dog/dog_7.jpg\n",
      "http://static.flickr.com/216/485038890_3bd11f9356.jpg\n",
      "datasets/dog/dog_8.jpg\n",
      "http://farm2.static.flickr.com/1248/1475128770_354f4c578e.jpg\n",
      "datasets/dog/dog_9.jpg\n",
      "http://farm1.static.flickr.com/182/372188007_be2c110855.jpg\n",
      "datasets/dog/dog_10.jpg\n",
      "http://farm2.static.flickr.com/1051/1333214704_75f4f4267d.jpg\n",
      "datasets/dog/dog_11.jpg\n",
      "http://farm1.static.flickr.com/25/57104973_d32fbaf377.jpg\n",
      "datasets/dog/dog_12.jpg\n",
      "http://farm1.static.flickr.com/147/369892064_35dd7b02b2.jpg\n",
      "datasets/dog/dog_13.jpg\n",
      "http://farm2.static.flickr.com/1290/1360115323_ddfca4a83a.jpg\n",
      "datasets/dog/dog_14.jpg\n",
      "http://static.flickr.com/44/173941977_7cb8855b40.jpg\n",
      "datasets/dog/dog_15.jpg\n",
      "http://wallcoo.download.it168.com/animal/Toy_Poodle/mxxx01/%5Bwallcoo.com%5D_4_year_GP063_350A.jpg\n",
      "http://static.flickr.com/81/388569734_98a446fb35.jpg\n",
      "datasets/dog/dog_16.jpg\n"
     ]
    }
   ],
   "source": [
    "ids = {'dog': \"n02083346\",\n",
    "#        'cat': \"n02120997\",\n",
    "#        'snake': \"n01726692\" ,\n",
    "#        'lizard':\"n01674464\", \n",
    "#        'horses': \"n02374451\",\n",
    "#        'bovine':\"n02402010\",\n",
    "#        'deer': \"n02430045\"\n",
    "      }\n",
    "\n",
    "    \n",
    "soups = soups_from_ids(ids)\n",
    "\n",
    "download_images(soups)"
   ]
  },
  {
   "cell_type": "code",
   "execution_count": 6,
   "metadata": {},
   "outputs": [
    {
     "name": "stdout",
     "output_type": "stream",
     "text": [
      "\u001b[1m\u001b[36mLCR\u001b[m\u001b[m                     datasets.py             \u001b[1m\u001b[36moptimize\u001b[m\u001b[m\r\n",
      "MNIST_prep.ipynb        dendrogram.py           sauer1991.pdf\r\n",
      "README.md               \u001b[1m\u001b[36mfigures\u001b[m\u001b[m                 train.py\r\n",
      "\u001b[1m\u001b[36m__pycache__\u001b[m\u001b[m             imagenet_download.ipynb \u001b[1m\u001b[36mtsne\u001b[m\u001b[m\r\n",
      "config.py               mds.py\r\n",
      "\u001b[1m\u001b[36mdatasets\u001b[m\u001b[m                mnist_784_zip.zip\r\n"
     ]
    }
   ],
   "source": [
    "!ls\n"
   ]
  },
  {
   "cell_type": "code",
   "execution_count": 7,
   "metadata": {},
   "outputs": [],
   "source": [
    "!cd datasets"
   ]
  },
  {
   "cell_type": "code",
   "execution_count": 8,
   "metadata": {},
   "outputs": [
    {
     "name": "stdout",
     "output_type": "stream",
     "text": [
      "\u001b[1m\u001b[36mLCR\u001b[m\u001b[m                     datasets.py             \u001b[1m\u001b[36moptimize\u001b[m\u001b[m\r\n",
      "MNIST_prep.ipynb        dendrogram.py           sauer1991.pdf\r\n",
      "README.md               \u001b[1m\u001b[36mfigures\u001b[m\u001b[m                 train.py\r\n",
      "\u001b[1m\u001b[36m__pycache__\u001b[m\u001b[m             imagenet_download.ipynb \u001b[1m\u001b[36mtsne\u001b[m\u001b[m\r\n",
      "config.py               mds.py\r\n",
      "\u001b[1m\u001b[36mdatasets\u001b[m\u001b[m                mnist_784_zip.zip\r\n"
     ]
    }
   ],
   "source": [
    "!ls"
   ]
  },
  {
   "cell_type": "code",
   "execution_count": null,
   "metadata": {},
   "outputs": [],
   "source": []
  }
 ],
 "metadata": {
  "kernelspec": {
   "display_name": "Python 3",
   "language": "python",
   "name": "python3"
  },
  "language_info": {
   "codemirror_mode": {
    "name": "ipython",
    "version": 3
   },
   "file_extension": ".py",
   "mimetype": "text/x-python",
   "name": "python",
   "nbconvert_exporter": "python",
   "pygments_lexer": "ipython3",
   "version": "3.6.9"
  }
 },
 "nbformat": 4,
 "nbformat_minor": 4
}
