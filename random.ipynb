{
 "cells": [
  {
   "cell_type": "code",
   "execution_count": 7,
   "metadata": {},
   "outputs": [],
   "source": [
    "from sklearn import datasets\n",
    "import numpy as np"
   ]
  },
  {
   "cell_type": "code",
   "execution_count": 11,
   "metadata": {},
   "outputs": [],
   "source": [
    "arr = np.zeros((5,20))"
   ]
  },
  {
   "cell_type": "code",
   "execution_count": 12,
   "metadata": {},
   "outputs": [],
   "source": [
    "arr[0,0] = 1"
   ]
  },
  {
   "cell_type": "code",
   "execution_count": 14,
   "metadata": {},
   "outputs": [],
   "source": [
    "arr[0,1] = 1"
   ]
  },
  {
   "cell_type": "code",
   "execution_count": 16,
   "metadata": {},
   "outputs": [],
   "source": [
    "arr[1,0:2] = [1,-1]\n",
    "arr[2,0:2] = [-1,1]\n",
    "arr[3,0:2] = [-1,-1]\n",
    "arr[4,2] = 5"
   ]
  },
  {
   "cell_type": "code",
   "execution_count": 17,
   "metadata": {},
   "outputs": [
    {
     "data": {
      "text/plain": [
       "array([[ 1.,  1.,  0.,  0.,  0.,  0.,  0.,  0.,  0.,  0.,  0.,  0.,  0.,\n",
       "         0.,  0.,  0.,  0.,  0.,  0.,  0.],\n",
       "       [ 1., -1.,  0.,  0.,  0.,  0.,  0.,  0.,  0.,  0.,  0.,  0.,  0.,\n",
       "         0.,  0.,  0.,  0.,  0.,  0.,  0.],\n",
       "       [-1.,  1.,  0.,  0.,  0.,  0.,  0.,  0.,  0.,  0.,  0.,  0.,  0.,\n",
       "         0.,  0.,  0.,  0.,  0.,  0.,  0.],\n",
       "       [-1., -1.,  0.,  0.,  0.,  0.,  0.,  0.,  0.,  0.,  0.,  0.,  0.,\n",
       "         0.,  0.,  0.,  0.,  0.,  0.,  0.],\n",
       "       [ 0.,  0.,  5.,  0.,  0.,  0.,  0.,  0.,  0.,  0.,  0.,  0.,  0.,\n",
       "         0.,  0.,  0.,  0.,  0.,  0.,  0.]])"
      ]
     },
     "execution_count": 17,
     "metadata": {},
     "output_type": "execute_result"
    }
   ],
   "source": [
    "arr"
   ]
  },
  {
   "cell_type": "code",
   "execution_count": null,
   "metadata": {},
   "outputs": [],
   "source": []
  },
  {
   "cell_type": "code",
   "execution_count": null,
   "metadata": {},
   "outputs": [],
   "source": []
  },
  {
   "cell_type": "code",
   "execution_count": 19,
   "metadata": {},
   "outputs": [],
   "source": [
    "data, labels = datasets.make_blobs(n_samples=200, n_features=20, centers = arr, cluster_std=0.2)"
   ]
  },
  {
   "cell_type": "code",
   "execution_count": 20,
   "metadata": {},
   "outputs": [],
   "source": [
    "from sklearn import decomposition "
   ]
  },
  {
   "cell_type": "code",
   "execution_count": 21,
   "metadata": {},
   "outputs": [],
   "source": [
    "pca = decomposition.PCA(n_components=2)"
   ]
  },
  {
   "cell_type": "code",
   "execution_count": 23,
   "metadata": {},
   "outputs": [],
   "source": [
    "pca_data = pca.fit_transform(data)"
   ]
  },
  {
   "cell_type": "code",
   "execution_count": 24,
   "metadata": {},
   "outputs": [],
   "source": [
    "import matplotlib.pyplot as plt"
   ]
  },
  {
   "cell_type": "code",
   "execution_count": 26,
   "metadata": {},
   "outputs": [
    {
     "data": {
      "text/plain": [
       "<matplotlib.collections.PathCollection at 0x7f6c4da0f690>"
      ]
     },
     "execution_count": 26,
     "metadata": {},
     "output_type": "execute_result"
    },
    {
     "data": {
      "image/png": "[encoded data removed]",
      "text/plain": [
       "<Figure size 432x288 with 1 Axes>"
      ]
     },
     "metadata": {
      "needs_background": "light"
     },
     "output_type": "display_data"
    }
   ],
   "source": [
    "plt.scatter(pca_data[:,0], pca_data[:,1])"
   ]
  },
  {
   "cell_type": "code",
   "execution_count": null,
   "metadata": {},
   "outputs": [],
   "source": [
    "import numpy as np\n",
    "from sklearn.metrics import pairwise, normalized_mutual_info_score, adjusted_rand_score\n",
    "import networkx as nx\n",
    "from matplotlib import pyplot as plt\n",
    "from optimize.functions import MSTER, LCR, loss, grad, H\n",
    "from sklearn.cluster import KMeans\n",
    "from config import MFConfig\n",
    "import pandas as pd\n",
    "from sklearn.decomposition import PCA\n",
    "import copy\n",
    "\n",
    "num_points = 5000\n",
    "num_clusters = 5\n",
    "random_state = 1600\n",
    "\n",
    "df = pd.read_csv('mnist_784_zip/data/mnist_784_csv.csv')\n",
    "df = df.loc[df['class'].isin([0,1,4,6,8])]\n",
    "df = df.sample(n=num_points, random_state=random_state)\n",
    "labels = np.array(df['class'])\n",
    "data = np.mat(df.drop('class', axis=1))\n",
    "\n",
    "pca_0 = PCA(n_components = 30) #initial dim reduction for faster MST computation (from tSNE paper)\n",
    "init_data = np.mat(pca_0.fit_transform(data))\n",
    "(M, A, B, k_A, lr_a, lr_a_decay, lr_b, lr_b_decay, lambda_, lambda_decay, eta, eta_decay, num_epochs, clip_a, clip_b) = MFConfig(M=init_data).dump()\n",
    "\n",
    "pca = PCA(n_components = 2)\n",
    "pca_init = np.mat(pca.fit_transform(init_data))\n",
    "\n",
    "def train():\n",
    "    global M, A, B, k_A, lr_a, lr_a_decay, lr_b, lr_b_decay, lambda_, lambda_decay, eta, eta_decay, num_epochs, clip_a, clip_b\n",
    "    A_best = A.copy()\n",
    "    B_best = B.copy()\n",
    "\n",
    "    # ratio_A, vertices_A = MSTER(A, k_A)\n",
    "    # ratio_B, vertices_B = MSTER(B.T, k_B)\n",
    "    ratio_A, A_A, B_A, C_A, D_A = LCR(A, k_A)\n",
    "    loss_best = loss(M,A,B,ratio_A, lambda_, eta)\n",
    "    for epoch in range(num_epochs):\n",
    "        best = ''\n",
    "        if (epoch%10)<5:\n",
    "            # gradient = (-(M-A*B)*B.T - lambda_*grad(A,vertices_A) - eta*(2*H(M.shape[0]).T*H(M.shape[0])*A))\n",
    "            gradient = (-(M-A*B)*B.T - lambda_*grad(A,A_A, B_A, C_A, D_A) - eta*(2*H(M.shape[0]).T*H(M.shape[0])*A))\n",
    "            n = np.linalg.norm(gradient, ord='fro')\n",
    "            if n > clip_a:\n",
    "                gradient = clip_a * gradient/n\n",
    "\n",
    "            A = A - lr_a*gradient\n",
    "        else:\n",
    "            gradient = (-A.T*(M-A*B))\n",
    "            n = np.linalg.norm(gradient, ord='fro')\n",
    "            if n > clip_b:\n",
    "                gradient = clip_b * gradient/n\n",
    "\n",
    "            B = B - lr_b*gradient\n",
    "\n",
    "        # ratio_A, vertices_A = MSTER(A, k_A)\n",
    "        # ratio_B, vertices_B = MSTER(B.T, k_B)\n",
    "        ratio_A, A_A, B_A, C_A, D_A = LCR(A, k_A)\n",
    "        loss_ = loss(M,A,B,ratio_A, lambda_, eta)\n",
    "\n",
    "        if loss_<loss_best:\n",
    "            A_best = A.copy()\n",
    "            B_best = B.copy()\n",
    "            best = 'best'\n",
    "            loss_best = loss_\n",
    "\n",
    "        lr_a -= lr_a_decay\n",
    "        lr_b -= lr_b_decay\n",
    "        lambda_ -= lambda_decay\n",
    "        eta -= eta_decay\n",
    "\n",
    "        print(\"epoch {0} --- \\t loss: {1} \\t norm contribution: {2} \\t {3}\".format(epoch,\n",
    "                loss_, 0.5*np.linalg.norm(M-A*B, ord = 'fro')**2, best))\n",
    "\n",
    "    return A_best,B_best #returns best model in terms of loss\n",
    "\n",
    "if __name__ == '__main__':\n",
    "    A_best, B_best = train()\n",
    "\n",
    "    ### Dim Reduction\n",
    "    base = {1: [], 4: [], 6: [], 8: [], 0: []} #{1: [], 2: [], 3: [], 4: [], 5: [], 6: [], 7: [], 8: [], 9: [], 0: []}\n",
    "    base_kmeans = {0: [], 1: [], 2: [], 3:[], 4:[]}\n",
    "    legend = [1,4,6,8,0]\n",
    "\n",
    "    _dict = copy.deepcopy(base)\n",
    "    for i,row in enumerate(np.array(A_best)):\n",
    "        _dict[labels[i]].append(row)\n",
    "\n",
    "    plt.figure(1)\n",
    "    plt.title('d=2 MSTER-ALS Representation of MNIST Sample (n={})'.format(num_points))\n",
    "    for i in _dict.keys():\n",
    "        plt.scatter(np.array(_dict[i])[:,0], np.array(_dict[i])[:,1], alpha=0.6)\n",
    "    plt.legend(legend)\n",
    "\n",
    "    _dict2 = copy.deepcopy(base)\n",
    "    for i,row in enumerate(np.array(pca_init)):\n",
    "        _dict2[labels[i]].append(row)\n",
    "\n",
    "    plt.figure(2)\n",
    "    plt.title('d=2 PCA Representation of MNIST Sample (n={})'.format(num_points))\n",
    "    for i in _dict2.keys():\n",
    "        plt.scatter(np.array(_dict2[i])[:,0], np.array(_dict2[i])[:,1], alpha=0.6)\n",
    "    plt.legend(legend)\n",
    "\n",
    "    ### KMeans stuff\n",
    "\n",
    "    predictions_MSTER = KMeans(n_clusters = num_clusters, random_state = random_state).fit(A_best).labels_\n",
    "    predictions_PCA = KMeans(n_clusters = num_clusters, random_state = random_state).fit(pca_init).labels_\n",
    "\n",
    "    plt.figure(3)\n",
    "    plt.title('K-Means predictions for MSTER')\n",
    "    _dict3 = copy.deepcopy(base_kmeans)\n",
    "    for i,row in enumerate(np.array(A_best)):\n",
    "        _dict3[predictions_MSTER[i]].append(row)\n",
    "    for i in _dict3.keys():\n",
    "        plt.scatter(np.array(_dict3[i])[:,0], np.array(_dict3[i])[:,1], alpha=0.6)\n",
    "    plt.legend(range(10))\n",
    "\n",
    "    plt.figure(4)\n",
    "    plt.title('K-Means predictions for PCA')\n",
    "    _dict4 = copy.deepcopy(base_kmeans)\n",
    "    for i,row in enumerate(np.array(pca_init)):\n",
    "        _dict4[predictions_PCA[i]].append(row)\n",
    "    for i in _dict4.keys():\n",
    "        plt.scatter(np.array(_dict4[i])[:,0], np.array(_dict4[i])[:,1], alpha=0.6)\n",
    "    plt.legend(range(10))\n",
    "\n",
    "    ### NMI\n",
    "    score_MSTER = normalized_mutual_info_score(labels, predictions_MSTER)\n",
    "    score_PCA = normalized_mutual_info_score(labels, predictions_PCA)\n",
    "\n",
    "    print(\"MSTER NMI score: {} \\n PCA NMI score: {}\".format(score_MSTER, score_PCA))\n",
    "\n",
    "    ### ARI\n",
    "    score_MSTER = adjusted_rand_score(labels, predictions_MSTER)\n",
    "    score_PCA = adjusted_rand_score(labels, predictions_PCA)\n",
    "\n",
    "    print(\"MSTER Rand score: {} \\n PCA Rand score: {}\".format(score_MSTER, score_PCA))\n",
    "\n",
    "    plt.show()\n"
   ]
  },
  {
   "cell_type": "code",
   "execution_count": 1,
   "metadata": {},
   "outputs": [],
   "source": [
    "import os\n",
    "import pandas as pd\n",
    "\n",
    "import rpy2.robjects as robjects\n",
    "from rpy2.robjects import pandas2ri\n",
    "from rpy2.robjects.packages import importr"
   ]
  },
  {
   "cell_type": "code",
   "execution_count": 2,
   "metadata": {},
   "outputs": [
    {
     "name": "stderr",
     "output_type": "stream",
     "text": [
      "/home/mstrals/anaconda3/lib/python3.7/site-packages/rpy2/robjects/vectors.py:969: UserWarning: R object inheriting from \"POSIXct\" but without attribute \"tzone\".\n",
      "  warnings.warn('R object inheriting from \"POSIXct\" but without '\n"
     ]
    }
   ],
   "source": [
    "pandas2ri.activate()\n",
    "\n",
    "base = importr('base')"
   ]
  },
  {
   "cell_type": "code",
   "execution_count": 3,
   "metadata": {},
   "outputs": [],
   "source": [
    "base.load(\"./tpe/tpe/data/protein.rda\");\n"
   ]
  },
  {
   "cell_type": "code",
   "execution_count": 4,
   "metadata": {},
   "outputs": [],
   "source": [
    "rdf_List = base.mget(base.ls())\n"
   ]
  },
  {
   "cell_type": "code",
   "execution_count": 5,
   "metadata": {},
   "outputs": [],
   "source": [
    "pydf_dict = {}\n"
   ]
  },
  {
   "cell_type": "code",
   "execution_count": 24,
   "metadata": {},
   "outputs": [],
   "source": [
    "readRDS = robjects.r['readRDS']\n"
   ]
  },
  {
   "cell_type": "code",
   "execution_count": 25,
   "metadata": {},
   "outputs": [],
   "source": [
    "df = readRDS('./protein.rds')\n"
   ]
  },
  {
   "cell_type": "code",
   "execution_count": 29,
   "metadata": {},
   "outputs": [
    {
     "data": {
      "text/plain": [
       "array(['protein'], dtype='<U7')"
      ]
     },
     "execution_count": 29,
     "metadata": {},
     "output_type": "execute_result"
    }
   ],
   "source": [
    "df"
   ]
  },
  {
   "cell_type": "code",
   "execution_count": null,
   "metadata": {},
   "outputs": [],
   "source": []
  },
  {
   "cell_type": "code",
   "execution_count": 16,
   "metadata": {},
   "outputs": [],
   "source": [
    "import numpy as np"
   ]
  },
  {
   "cell_type": "code",
   "execution_count": 18,
   "metadata": {},
   "outputs": [
    {
     "data": {
      "text/plain": [
       "(8515,)"
      ]
     },
     "execution_count": 18,
     "metadata": {},
     "output_type": "execute_result"
    }
   ],
   "source": [
    "rdf_List[0].shape"
   ]
  },
  {
   "cell_type": "code",
   "execution_count": null,
   "metadata": {},
   "outputs": [],
   "source": []
  },
  {
   "cell_type": "code",
   "execution_count": 30,
   "metadata": {},
   "outputs": [],
   "source": [
    "import pyreadr"
   ]
  },
  {
   "cell_type": "code",
   "execution_count": 37,
   "metadata": {},
   "outputs": [],
   "source": [
    "result = pyreadr.read_r('./new_protein.rds',) # also works for Rds\n"
   ]
  },
  {
   "cell_type": "code",
   "execution_count": 36,
   "metadata": {},
   "outputs": [
    {
     "name": "stdout",
     "output_type": "stream",
     "text": [
      "\u001b[0m\u001b[01;34marchive\u001b[0m/          \u001b[01;31mmnist_784_zip.zip\u001b[0m  protein.rds    \u001b[01;34mtpe\u001b[0m/\r\n",
      "config.py         MNIST_prep.ipynb   \u001b[01;34m__pycache__\u001b[0m/   \u001b[01;31mtpe.tar.gz\u001b[0m\r\n",
      "datapackage.json  new_protein.rds    random.ipynb   Train.ipynb\r\n",
      "datasets.py       \u001b[01;34moptimize\u001b[0m/          README.md      train.py\r\n",
      "\u001b[01;34mmnist_784_zip\u001b[0m/    protein.rdata      sauer1991.pdf  Untitled.ipynb\r\n"
     ]
    }
   ],
   "source": [
    "ls"
   ]
  },
  {
   "cell_type": "code",
   "execution_count": 40,
   "metadata": {},
   "outputs": [],
   "source": [
    "from rpy2.robjects import pandas2ri"
   ]
  },
  {
   "cell_type": "code",
   "execution_count": 41,
   "metadata": {},
   "outputs": [],
   "source": [
    "pandas2ri.activate()"
   ]
  },
  {
   "cell_type": "code",
   "execution_count": 43,
   "metadata": {},
   "outputs": [],
   "source": [
    "import rpy2.robjects as ro"
   ]
  },
  {
   "cell_type": "code",
   "execution_count": 44,
   "metadata": {},
   "outputs": [],
   "source": [
    "dt = pd.DataFrame()"
   ]
  },
  {
   "cell_type": "code",
   "execution_count": 45,
   "metadata": {},
   "outputs": [],
   "source": [
    "r_dt = ro.conversion.py2rpy(dt)"
   ]
  },
  {
   "cell_type": "code",
   "execution_count": 47,
   "metadata": {},
   "outputs": [],
   "source": [
    "pd_dt = ro.conversion.rpy2py(base)"
   ]
  },
  {
   "cell_type": "code",
   "execution_count": 50,
   "metadata": {},
   "outputs": [
    {
     "data": {
      "text/plain": [
       "array(rpy2.robjects.packages.Package as a <module 'base'>, dtype=object)"
      ]
     },
     "execution_count": 50,
     "metadata": {},
     "output_type": "execute_result"
    }
   ],
   "source": [
    "np.array(pd_dt)"
   ]
  },
  {
   "cell_type": "code",
   "execution_count": 56,
   "metadata": {},
   "outputs": [],
   "source": [
    "df = pd.read_csv(\"./tpe/tpe/data/radar.csv\")"
   ]
  },
  {
   "cell_type": "code",
   "execution_count": 57,
   "metadata": {
    "scrolled": true
   },
   "outputs": [
    {
     "data": {
      "text/html": [
       "<div>\n",
       "<style scoped>\n",
       "    .dataframe tbody tr th:only-of-type {\n",
       "        vertical-align: middle;\n",
       "    }\n",
       "\n",
       "    .dataframe tbody tr th {\n",
       "        vertical-align: top;\n",
       "    }\n",
       "\n",
       "    .dataframe thead th {\n",
       "        text-align: right;\n",
       "    }\n",
       "</style>\n",
       "<table border=\"1\" class=\"dataframe\">\n",
       "  <thead>\n",
       "    <tr style=\"text-align: right;\">\n",
       "      <th></th>\n",
       "      <th>Unnamed: 0</th>\n",
       "      <th>G</th>\n",
       "      <th>B</th>\n",
       "      <th>G.1</th>\n",
       "      <th>B.1</th>\n",
       "      <th>G.2</th>\n",
       "      <th>B.2</th>\n",
       "      <th>G.3</th>\n",
       "      <th>B.3</th>\n",
       "      <th>G.4</th>\n",
       "      <th>...</th>\n",
       "      <th>G.215</th>\n",
       "      <th>G.216</th>\n",
       "      <th>G.217</th>\n",
       "      <th>G.218</th>\n",
       "      <th>G.219</th>\n",
       "      <th>G.220</th>\n",
       "      <th>G.221</th>\n",
       "      <th>G.222</th>\n",
       "      <th>G.223</th>\n",
       "      <th>G.224</th>\n",
       "    </tr>\n",
       "  </thead>\n",
       "  <tbody>\n",
       "    <tr>\n",
       "      <th>0</th>\n",
       "      <td>G</td>\n",
       "      <td>0.000000</td>\n",
       "      <td>2.776359</td>\n",
       "      <td>1.169728</td>\n",
       "      <td>4.772563</td>\n",
       "      <td>1.377347</td>\n",
       "      <td>3.049072</td>\n",
       "      <td>1.530471</td>\n",
       "      <td>4.803640</td>\n",
       "      <td>1.205018</td>\n",
       "      <td>...</td>\n",
       "      <td>2.411660</td>\n",
       "      <td>1.850561</td>\n",
       "      <td>1.575835</td>\n",
       "      <td>1.819822</td>\n",
       "      <td>2.545739</td>\n",
       "      <td>2.125122</td>\n",
       "      <td>2.284844</td>\n",
       "      <td>2.214063</td>\n",
       "      <td>1.967518</td>\n",
       "      <td>1.870675</td>\n",
       "    </tr>\n",
       "    <tr>\n",
       "      <th>1</th>\n",
       "      <td>B</td>\n",
       "      <td>2.776359</td>\n",
       "      <td>0.000000</td>\n",
       "      <td>3.380033</td>\n",
       "      <td>4.454509</td>\n",
       "      <td>2.540531</td>\n",
       "      <td>2.783883</td>\n",
       "      <td>2.753930</td>\n",
       "      <td>4.859196</td>\n",
       "      <td>3.472495</td>\n",
       "      <td>...</td>\n",
       "      <td>4.444855</td>\n",
       "      <td>3.838187</td>\n",
       "      <td>3.018289</td>\n",
       "      <td>3.800659</td>\n",
       "      <td>3.871057</td>\n",
       "      <td>4.151681</td>\n",
       "      <td>4.335354</td>\n",
       "      <td>4.278651</td>\n",
       "      <td>4.110176</td>\n",
       "      <td>3.929828</td>\n",
       "    </tr>\n",
       "    <tr>\n",
       "      <th>2</th>\n",
       "      <td>G</td>\n",
       "      <td>1.169728</td>\n",
       "      <td>3.380033</td>\n",
       "      <td>0.000000</td>\n",
       "      <td>4.671267</td>\n",
       "      <td>1.838508</td>\n",
       "      <td>3.129187</td>\n",
       "      <td>2.399696</td>\n",
       "      <td>4.679506</td>\n",
       "      <td>1.695460</td>\n",
       "      <td>...</td>\n",
       "      <td>1.582709</td>\n",
       "      <td>1.056673</td>\n",
       "      <td>1.295598</td>\n",
       "      <td>1.009586</td>\n",
       "      <td>2.030114</td>\n",
       "      <td>1.326592</td>\n",
       "      <td>1.456198</td>\n",
       "      <td>1.391267</td>\n",
       "      <td>1.192104</td>\n",
       "      <td>1.026578</td>\n",
       "    </tr>\n",
       "    <tr>\n",
       "      <th>3</th>\n",
       "      <td>B</td>\n",
       "      <td>4.772563</td>\n",
       "      <td>4.454509</td>\n",
       "      <td>4.671267</td>\n",
       "      <td>0.000000</td>\n",
       "      <td>4.728259</td>\n",
       "      <td>3.853289</td>\n",
       "      <td>5.509146</td>\n",
       "      <td>3.754628</td>\n",
       "      <td>5.587566</td>\n",
       "      <td>...</td>\n",
       "      <td>4.895289</td>\n",
       "      <td>4.602913</td>\n",
       "      <td>4.183019</td>\n",
       "      <td>4.480253</td>\n",
       "      <td>4.300088</td>\n",
       "      <td>4.810247</td>\n",
       "      <td>4.853090</td>\n",
       "      <td>4.830586</td>\n",
       "      <td>4.781328</td>\n",
       "      <td>4.731419</td>\n",
       "    </tr>\n",
       "    <tr>\n",
       "      <th>4</th>\n",
       "      <td>G</td>\n",
       "      <td>1.377347</td>\n",
       "      <td>2.540531</td>\n",
       "      <td>1.838508</td>\n",
       "      <td>4.728259</td>\n",
       "      <td>0.000000</td>\n",
       "      <td>2.721250</td>\n",
       "      <td>1.433354</td>\n",
       "      <td>4.871717</td>\n",
       "      <td>2.013416</td>\n",
       "      <td>...</td>\n",
       "      <td>3.290688</td>\n",
       "      <td>2.604777</td>\n",
       "      <td>1.894606</td>\n",
       "      <td>2.580156</td>\n",
       "      <td>3.019837</td>\n",
       "      <td>2.989063</td>\n",
       "      <td>3.163051</td>\n",
       "      <td>3.093763</td>\n",
       "      <td>2.859164</td>\n",
       "      <td>2.679004</td>\n",
       "    </tr>\n",
       "    <tr>\n",
       "      <th>...</th>\n",
       "      <td>...</td>\n",
       "      <td>...</td>\n",
       "      <td>...</td>\n",
       "      <td>...</td>\n",
       "      <td>...</td>\n",
       "      <td>...</td>\n",
       "      <td>...</td>\n",
       "      <td>...</td>\n",
       "      <td>...</td>\n",
       "      <td>...</td>\n",
       "      <td>...</td>\n",
       "      <td>...</td>\n",
       "      <td>...</td>\n",
       "      <td>...</td>\n",
       "      <td>...</td>\n",
       "      <td>...</td>\n",
       "      <td>...</td>\n",
       "      <td>...</td>\n",
       "      <td>...</td>\n",
       "      <td>...</td>\n",
       "      <td>...</td>\n",
       "    </tr>\n",
       "    <tr>\n",
       "      <th>346</th>\n",
       "      <td>G</td>\n",
       "      <td>2.125122</td>\n",
       "      <td>4.151681</td>\n",
       "      <td>1.326592</td>\n",
       "      <td>4.810247</td>\n",
       "      <td>2.989063</td>\n",
       "      <td>3.568336</td>\n",
       "      <td>3.427182</td>\n",
       "      <td>4.773545</td>\n",
       "      <td>2.434970</td>\n",
       "      <td>...</td>\n",
       "      <td>0.659912</td>\n",
       "      <td>0.692844</td>\n",
       "      <td>1.758529</td>\n",
       "      <td>0.698158</td>\n",
       "      <td>1.934238</td>\n",
       "      <td>0.000000</td>\n",
       "      <td>0.488513</td>\n",
       "      <td>0.472514</td>\n",
       "      <td>0.650537</td>\n",
       "      <td>0.473288</td>\n",
       "    </tr>\n",
       "    <tr>\n",
       "      <th>347</th>\n",
       "      <td>G</td>\n",
       "      <td>2.284844</td>\n",
       "      <td>4.335354</td>\n",
       "      <td>1.456198</td>\n",
       "      <td>4.853090</td>\n",
       "      <td>3.163051</td>\n",
       "      <td>3.818409</td>\n",
       "      <td>3.569641</td>\n",
       "      <td>4.863369</td>\n",
       "      <td>2.531763</td>\n",
       "      <td>...</td>\n",
       "      <td>0.219611</td>\n",
       "      <td>0.725608</td>\n",
       "      <td>1.937601</td>\n",
       "      <td>0.763132</td>\n",
       "      <td>1.966100</td>\n",
       "      <td>0.488513</td>\n",
       "      <td>0.000000</td>\n",
       "      <td>0.130732</td>\n",
       "      <td>0.508128</td>\n",
       "      <td>0.672662</td>\n",
       "    </tr>\n",
       "    <tr>\n",
       "      <th>348</th>\n",
       "      <td>G</td>\n",
       "      <td>2.214063</td>\n",
       "      <td>4.278651</td>\n",
       "      <td>1.391267</td>\n",
       "      <td>4.830586</td>\n",
       "      <td>3.093763</td>\n",
       "      <td>3.777344</td>\n",
       "      <td>3.495807</td>\n",
       "      <td>4.812042</td>\n",
       "      <td>2.457184</td>\n",
       "      <td>...</td>\n",
       "      <td>0.259382</td>\n",
       "      <td>0.662692</td>\n",
       "      <td>1.888983</td>\n",
       "      <td>0.724567</td>\n",
       "      <td>1.961145</td>\n",
       "      <td>0.472514</td>\n",
       "      <td>0.130732</td>\n",
       "      <td>0.000000</td>\n",
       "      <td>0.413108</td>\n",
       "      <td>0.616479</td>\n",
       "    </tr>\n",
       "    <tr>\n",
       "      <th>349</th>\n",
       "      <td>G</td>\n",
       "      <td>1.967518</td>\n",
       "      <td>4.110176</td>\n",
       "      <td>1.192104</td>\n",
       "      <td>4.781328</td>\n",
       "      <td>2.859164</td>\n",
       "      <td>3.662524</td>\n",
       "      <td>3.205566</td>\n",
       "      <td>4.700995</td>\n",
       "      <td>2.162645</td>\n",
       "      <td>...</td>\n",
       "      <td>0.576736</td>\n",
       "      <td>0.603384</td>\n",
       "      <td>1.744903</td>\n",
       "      <td>0.694532</td>\n",
       "      <td>1.955529</td>\n",
       "      <td>0.650537</td>\n",
       "      <td>0.508128</td>\n",
       "      <td>0.413108</td>\n",
       "      <td>0.000000</td>\n",
       "      <td>0.593984</td>\n",
       "    </tr>\n",
       "    <tr>\n",
       "      <th>350</th>\n",
       "      <td>G</td>\n",
       "      <td>1.870675</td>\n",
       "      <td>3.929828</td>\n",
       "      <td>1.026578</td>\n",
       "      <td>4.731419</td>\n",
       "      <td>2.679004</td>\n",
       "      <td>3.337854</td>\n",
       "      <td>3.135016</td>\n",
       "      <td>4.651453</td>\n",
       "      <td>2.200013</td>\n",
       "      <td>...</td>\n",
       "      <td>0.812748</td>\n",
       "      <td>0.481734</td>\n",
       "      <td>1.486535</td>\n",
       "      <td>0.489801</td>\n",
       "      <td>1.759925</td>\n",
       "      <td>0.473288</td>\n",
       "      <td>0.672662</td>\n",
       "      <td>0.616479</td>\n",
       "      <td>0.593984</td>\n",
       "      <td>0.000000</td>\n",
       "    </tr>\n",
       "  </tbody>\n",
       "</table>\n",
       "<p>351 rows × 352 columns</p>\n",
       "</div>"
      ],
      "text/plain": [
       "    Unnamed: 0         G         B       G.1       B.1       G.2       B.2  \\\n",
       "0            G  0.000000  2.776359  1.169728  4.772563  1.377347  3.049072   \n",
       "1            B  2.776359  0.000000  3.380033  4.454509  2.540531  2.783883   \n",
       "2            G  1.169728  3.380033  0.000000  4.671267  1.838508  3.129187   \n",
       "3            B  4.772563  4.454509  4.671267  0.000000  4.728259  3.853289   \n",
       "4            G  1.377347  2.540531  1.838508  4.728259  0.000000  2.721250   \n",
       "..         ...       ...       ...       ...       ...       ...       ...   \n",
       "346          G  2.125122  4.151681  1.326592  4.810247  2.989063  3.568336   \n",
       "347          G  2.284844  4.335354  1.456198  4.853090  3.163051  3.818409   \n",
       "348          G  2.214063  4.278651  1.391267  4.830586  3.093763  3.777344   \n",
       "349          G  1.967518  4.110176  1.192104  4.781328  2.859164  3.662524   \n",
       "350          G  1.870675  3.929828  1.026578  4.731419  2.679004  3.337854   \n",
       "\n",
       "          G.3       B.3       G.4  ...     G.215     G.216     G.217  \\\n",
       "0    1.530471  4.803640  1.205018  ...  2.411660  1.850561  1.575835   \n",
       "1    2.753930  4.859196  3.472495  ...  4.444855  3.838187  3.018289   \n",
       "2    2.399696  4.679506  1.695460  ...  1.582709  1.056673  1.295598   \n",
       "3    5.509146  3.754628  5.587566  ...  4.895289  4.602913  4.183019   \n",
       "4    1.433354  4.871717  2.013416  ...  3.290688  2.604777  1.894606   \n",
       "..        ...       ...       ...  ...       ...       ...       ...   \n",
       "346  3.427182  4.773545  2.434970  ...  0.659912  0.692844  1.758529   \n",
       "347  3.569641  4.863369  2.531763  ...  0.219611  0.725608  1.937601   \n",
       "348  3.495807  4.812042  2.457184  ...  0.259382  0.662692  1.888983   \n",
       "349  3.205566  4.700995  2.162645  ...  0.576736  0.603384  1.744903   \n",
       "350  3.135016  4.651453  2.200013  ...  0.812748  0.481734  1.486535   \n",
       "\n",
       "        G.218     G.219     G.220     G.221     G.222     G.223     G.224  \n",
       "0    1.819822  2.545739  2.125122  2.284844  2.214063  1.967518  1.870675  \n",
       "1    3.800659  3.871057  4.151681  4.335354  4.278651  4.110176  3.929828  \n",
       "2    1.009586  2.030114  1.326592  1.456198  1.391267  1.192104  1.026578  \n",
       "3    4.480253  4.300088  4.810247  4.853090  4.830586  4.781328  4.731419  \n",
       "4    2.580156  3.019837  2.989063  3.163051  3.093763  2.859164  2.679004  \n",
       "..        ...       ...       ...       ...       ...       ...       ...  \n",
       "346  0.698158  1.934238  0.000000  0.488513  0.472514  0.650537  0.473288  \n",
       "347  0.763132  1.966100  0.488513  0.000000  0.130732  0.508128  0.672662  \n",
       "348  0.724567  1.961145  0.472514  0.130732  0.000000  0.413108  0.616479  \n",
       "349  0.694532  1.955529  0.650537  0.508128  0.413108  0.000000  0.593984  \n",
       "350  0.489801  1.759925  0.473288  0.672662  0.616479  0.593984  0.000000  \n",
       "\n",
       "[351 rows x 352 columns]"
      ]
     },
     "execution_count": 57,
     "metadata": {},
     "output_type": "execute_result"
    }
   ],
   "source": [
    "df"
   ]
  },
  {
   "cell_type": "code",
   "execution_count": 54,
   "metadata": {},
   "outputs": [],
   "source": [
    "import sklearn"
   ]
  },
  {
   "cell_type": "code",
   "execution_count": 55,
   "metadata": {},
   "outputs": [
    {
     "ename": "AttributeError",
     "evalue": "module 'sklearn' has no attribute 'manifold'",
     "output_type": "error",
     "traceback": [
      "\u001b[0;31m---------------------------------------------------------------------------\u001b[0m",
      "\u001b[0;31mAttributeError\u001b[0m                            Traceback (most recent call last)",
      "\u001b[0;32m<ipython-input-55-45ebbd473bdd>\u001b[0m in \u001b[0;36m<module>\u001b[0;34m\u001b[0m\n\u001b[0;32m----> 1\u001b[0;31m \u001b[0mmds\u001b[0m \u001b[0;34m=\u001b[0m \u001b[0msklearn\u001b[0m\u001b[0;34m.\u001b[0m\u001b[0mmanifold\u001b[0m\u001b[0;34m.\u001b[0m\u001b[0mMDS\u001b[0m \u001b[0;34m(\u001b[0m\u001b[0mn_components\u001b[0m\u001b[0;34m=\u001b[0m\u001b[0;36m2\u001b[0m\u001b[0;34m,\u001b[0m \u001b[0mmetric\u001b[0m\u001b[0;34m=\u001b[0m\u001b[0;32mTrue\u001b[0m\u001b[0;34m)\u001b[0m\u001b[0;34m\u001b[0m\u001b[0;34m\u001b[0m\u001b[0m\n\u001b[0m",
      "\u001b[0;31mAttributeError\u001b[0m: module 'sklearn' has no attribute 'manifold'"
     ]
    }
   ],
   "source": [
    "mds = sklearn.manifold.MDS (n_components=2, metric=True)"
   ]
  },
  {
   "cell_type": "code",
   "execution_count": null,
   "metadata": {},
   "outputs": [],
   "source": []
  }
 ],
 "metadata": {
  "kernelspec": {
   "display_name": "Python 3",
   "language": "python",
   "name": "python3"
  },
  "language_info": {
   "codemirror_mode": {
    "name": "ipython",
    "version": 3
   },
   "file_extension": ".py",
   "mimetype": "text/x-python",
   "name": "python",
   "nbconvert_exporter": "python",
   "pygments_lexer": "ipython3",
   "version": "3.7.6"
  }
 },
 "nbformat": 4,
 "nbformat_minor": 4
}
